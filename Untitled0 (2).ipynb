{
  "nbformat": 4,
  "nbformat_minor": 0,
  "metadata": {
    "colab": {
      "provenance": []
    },
    "kernelspec": {
      "name": "python3",
      "display_name": "Python 3"
    },
    "language_info": {
      "name": "python"
    }
  },
  "cells": [
    {
      "cell_type": "code",
      "execution_count": null,
      "metadata": {
        "colab": {
          "base_uri": "https://localhost:8080/"
        },
        "id": "h0hHso0yAI32",
        "outputId": "7ef4a203-783a-466b-8f11-5d45b24a5e87"
      },
      "outputs": [
        {
          "output_type": "stream",
          "name": "stdout",
          "text": [
            "\u001b[30mHello World\u001b[0m\n"
          ]
        }
      ],
      "source": [
        "print('\\033[30m'+'Hello World'+'\\033[0m')"
      ]
    },
    {
      "cell_type": "code",
      "source": [
        "print('\\033[36m'+'Hello World'+'\\033[0m')"
      ],
      "metadata": {
        "colab": {
          "base_uri": "https://localhost:8080/"
        },
        "id": "G7wlt1CfCwQz",
        "outputId": "c9f4a32d-afc5-4b74-ca14-c3db294ade96"
      },
      "execution_count": null,
      "outputs": [
        {
          "output_type": "stream",
          "name": "stdout",
          "text": [
            "\u001b[36mHello World\u001b[0m\n"
          ]
        }
      ]
    },
    {
      "cell_type": "code",
      "source": [
        "print('\\033[30m'+'1 Hello World'+'\\033[0m')\n",
        "print('\\033[36m'+'2 Hello World'+'\\033[0m')\n",
        "\n",
        "print('\\033[30m'+'セキュリティが甘そうだと感じたほうの数字を入力してください'+'\\033[0m')\n",
        "\n",
        "weak = input('')\n",
        "weak = int(weak)\n",
        "\n",
        "\n",
        "if weak == 2:\n",
        " import getpass\n",
        " pw =getpass.getpass()\n",
        "\n",
        "\n",
        "\n"
      ],
      "metadata": {
        "colab": {
          "base_uri": "https://localhost:8080/"
        },
        "id": "99BwMwhYDq12",
        "outputId": "7628387c-28d7-40c6-fd18-d88b320fb36a"
      },
      "execution_count": 38,
      "outputs": [
        {
          "name": "stdout",
          "output_type": "stream",
          "text": [
            "\u001b[30m1 Hello World\u001b[0m\n",
            "\u001b[36m2 Hello World\u001b[0m\n",
            "\u001b[30mセキュリティが甘そうだと感じたほうの数字を入力してください\u001b[0m\n",
            "2\n",
            "··········\n"
          ]
        }
      ]
    },
    {
      "cell_type": "markdown",
      "source": [
        "# 新しいセクション"
      ],
      "metadata": {
        "id": "liSoDoVWMxD5"
      }
    },
    {
      "cell_type": "code",
      "source": [],
      "metadata": {
        "id": "2LIwOxboGPRW"
      },
      "execution_count": null,
      "outputs": []
    }
  ]
}